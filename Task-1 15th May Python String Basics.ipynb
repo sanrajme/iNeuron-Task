{
 "cells": [
  {
   "cell_type": "markdown",
   "id": "ef47ac0e",
   "metadata": {},
   "source": [
    "# Task-1 15th May Python String Basics"
   ]
  },
  {
   "cell_type": "markdown",
   "id": "79778087",
   "metadata": {},
   "source": [
    "   s = \"this is My First Python programming class and i am learNING python string and its function\"\n",
    "1. Try to extract data from index one to index 300 with a jump of 3 \n",
    "2. Try to reverse a string without using reverse function \n",
    "3. Try to split a string after conversion of entire string in uppercase \n",
    "4. Try to convert the whole string into lower case \n",
    "5. Try to capitalize the whole string \n",
    "6. Write a diference between isalnum() and isalpha()\n",
    "7. Try to give an example of expand tab\n",
    "8. Give an example of strip , lstrip and rstrip \n",
    "9. Replace a string charecter by another charector by taking your own example \"sudhanshu\"\n",
    "10. Try  to give a definition of string center function with and exmple \n",
    "11. Write your own definition of compiler and interpretor without copy paste form internet in your own language\n",
    "12. Python is a interpreted of compiled language give a clear ans with your understanding \n",
    "13. Try to write a usecase of python with your understanding .\n",
    "\n",
    "\n",
    "You have to send a jupyter notebook to shivan@ineuron.ai before next saturday class 21st of may.\n"
   ]
  },
  {
   "cell_type": "code",
   "execution_count": 16,
   "id": "c77a8b78",
   "metadata": {},
   "outputs": [],
   "source": [
    "s = \"this is My First Python programming class and i am learNING python string and its function\""
   ]
  },
  {
   "cell_type": "code",
   "execution_count": 17,
   "id": "af4624e7",
   "metadata": {},
   "outputs": [
    {
     "data": {
      "text/plain": [
       "'this is My First Python programming class and i am learNING python string and its function'"
      ]
     },
     "execution_count": 17,
     "metadata": {},
     "output_type": "execute_result"
    }
   ],
   "source": [
    "s"
   ]
  },
  {
   "cell_type": "markdown",
   "id": "452a8bcb",
   "metadata": {},
   "source": [
    " "
   ]
  },
  {
   "cell_type": "markdown",
   "id": "fe7ef174",
   "metadata": {},
   "source": [
    "Q. 1 Answer"
   ]
  },
  {
   "cell_type": "code",
   "execution_count": 4,
   "id": "9438a83a",
   "metadata": {},
   "outputs": [
    {
     "data": {
      "text/plain": [
       "'h   r tnrrmglsnimeNGyosi dtfco'"
      ]
     },
     "execution_count": 4,
     "metadata": {},
     "output_type": "execute_result"
    }
   ],
   "source": [
    "s[1:300:3]"
   ]
  },
  {
   "cell_type": "markdown",
   "id": "d03675ae",
   "metadata": {},
   "source": [
    " "
   ]
  },
  {
   "cell_type": "markdown",
   "id": "915729df",
   "metadata": {},
   "source": [
    "Q. 2 Answer"
   ]
  },
  {
   "cell_type": "code",
   "execution_count": 18,
   "id": "30bc1d73",
   "metadata": {},
   "outputs": [
    {
     "data": {
      "text/plain": [
       "'noitcnuf sti dna gnirts nohtyp GNINrael ma i dna ssalc gnimmargorp nohtyP tsriF yM si siht'"
      ]
     },
     "execution_count": 18,
     "metadata": {},
     "output_type": "execute_result"
    }
   ],
   "source": [
    "s[::-1]"
   ]
  },
  {
   "cell_type": "markdown",
   "id": "71d275ac",
   "metadata": {},
   "source": [
    " "
   ]
  },
  {
   "cell_type": "markdown",
   "id": "7fcb3d5f",
   "metadata": {},
   "source": [
    "Q. 3 Answer"
   ]
  },
  {
   "cell_type": "code",
   "execution_count": 19,
   "id": "a3a9216a",
   "metadata": {},
   "outputs": [],
   "source": [
    "s = s.upper()"
   ]
  },
  {
   "cell_type": "code",
   "execution_count": 20,
   "id": "3afc1215",
   "metadata": {},
   "outputs": [
    {
     "data": {
      "text/plain": [
       "'THIS IS MY FIRST PYTHON PROGRAMMING CLASS AND I AM LEARNING PYTHON STRING AND ITS FUNCTION'"
      ]
     },
     "execution_count": 20,
     "metadata": {},
     "output_type": "execute_result"
    }
   ],
   "source": [
    "s"
   ]
  },
  {
   "cell_type": "code",
   "execution_count": 21,
   "id": "b411c272",
   "metadata": {},
   "outputs": [
    {
     "data": {
      "text/plain": [
       "['THIS',\n",
       " 'IS',\n",
       " 'MY',\n",
       " 'FIRST',\n",
       " 'PYTHON',\n",
       " 'PROGRAMMING',\n",
       " 'CLASS',\n",
       " 'AND',\n",
       " 'I',\n",
       " 'AM',\n",
       " 'LEARNING',\n",
       " 'PYTHON',\n",
       " 'STRING',\n",
       " 'AND',\n",
       " 'ITS',\n",
       " 'FUNCTION']"
      ]
     },
     "execution_count": 21,
     "metadata": {},
     "output_type": "execute_result"
    }
   ],
   "source": [
    "s.split(' ')"
   ]
  },
  {
   "cell_type": "markdown",
   "id": "399cc8a3",
   "metadata": {},
   "source": [
    " "
   ]
  },
  {
   "cell_type": "markdown",
   "id": "d0948d04",
   "metadata": {},
   "source": [
    "Q. 4 Answer"
   ]
  },
  {
   "cell_type": "code",
   "execution_count": 22,
   "id": "194c8ba0",
   "metadata": {},
   "outputs": [
    {
     "data": {
      "text/plain": [
       "'this is my first python programming class and i am learning python string and its function'"
      ]
     },
     "execution_count": 22,
     "metadata": {},
     "output_type": "execute_result"
    }
   ],
   "source": [
    "s.lower()"
   ]
  },
  {
   "cell_type": "markdown",
   "id": "8396da5b",
   "metadata": {},
   "source": [
    " "
   ]
  },
  {
   "cell_type": "markdown",
   "id": "70b482d2",
   "metadata": {},
   "source": [
    "Q. 5 Answer"
   ]
  },
  {
   "cell_type": "code",
   "execution_count": 23,
   "id": "7b0c8226",
   "metadata": {},
   "outputs": [
    {
     "data": {
      "text/plain": [
       "'This is my first python programming class and i am learning python string and its function'"
      ]
     },
     "execution_count": 23,
     "metadata": {},
     "output_type": "execute_result"
    }
   ],
   "source": [
    "s.capitalize()"
   ]
  },
  {
   "cell_type": "markdown",
   "id": "f809c12b",
   "metadata": {},
   "source": [
    " "
   ]
  },
  {
   "cell_type": "markdown",
   "id": "9b6a9cd0",
   "metadata": {},
   "source": [
    "Q. 6 Answer"
   ]
  },
  {
   "cell_type": "markdown",
   "id": "c0b46276",
   "metadata": {},
   "source": [
    "'isalnum()' checks whether string is Alphabet or Numeric.\n",
    "'isalpha()' checks whether string is alphabet only. "
   ]
  },
  {
   "cell_type": "markdown",
   "id": "61fd4831",
   "metadata": {},
   "source": [
    " "
   ]
  },
  {
   "cell_type": "markdown",
   "id": "c7989815",
   "metadata": {},
   "source": [
    "Q. 7 Answer"
   ]
  },
  {
   "cell_type": "code",
   "execution_count": 33,
   "id": "150aa697",
   "metadata": {},
   "outputs": [],
   "source": [
    "s0 = \"My\\tname\\tis\\tSandeep\\tKumar\""
   ]
  },
  {
   "cell_type": "code",
   "execution_count": 34,
   "id": "d693d40e",
   "metadata": {},
   "outputs": [
    {
     "data": {
      "text/plain": [
       "'My      name    is      Sandeep Kumar'"
      ]
     },
     "execution_count": 34,
     "metadata": {},
     "output_type": "execute_result"
    }
   ],
   "source": [
    "s0.expandtabs()"
   ]
  },
  {
   "cell_type": "markdown",
   "id": "82b721fd",
   "metadata": {},
   "source": [
    " "
   ]
  },
  {
   "cell_type": "markdown",
   "id": "f8165bd4",
   "metadata": {},
   "source": [
    "Q. 8 Answer"
   ]
  },
  {
   "cell_type": "code",
   "execution_count": null,
   "id": "def92fbf",
   "metadata": {},
   "outputs": [],
   "source": [
    "s1 = \"     sandeep     \""
   ]
  },
  {
   "cell_type": "code",
   "execution_count": 29,
   "id": "7ec150ab",
   "metadata": {},
   "outputs": [
    {
     "data": {
      "text/plain": [
       "'sandeep'"
      ]
     },
     "execution_count": 29,
     "metadata": {},
     "output_type": "execute_result"
    }
   ],
   "source": [
    "s1.strip()"
   ]
  },
  {
   "cell_type": "code",
   "execution_count": 26,
   "id": "171f303b",
   "metadata": {},
   "outputs": [
    {
     "data": {
      "text/plain": [
       "'sandeep     '"
      ]
     },
     "execution_count": 26,
     "metadata": {},
     "output_type": "execute_result"
    }
   ],
   "source": [
    "s1.lstrip()"
   ]
  },
  {
   "cell_type": "code",
   "execution_count": 27,
   "id": "9ca5fd72",
   "metadata": {},
   "outputs": [
    {
     "data": {
      "text/plain": [
       "'     sandeep'"
      ]
     },
     "execution_count": 27,
     "metadata": {},
     "output_type": "execute_result"
    }
   ],
   "source": [
    "s1.rstrip()"
   ]
  },
  {
   "cell_type": "markdown",
   "id": "57b6433b",
   "metadata": {},
   "source": [
    " "
   ]
  },
  {
   "cell_type": "markdown",
   "id": "f9ebc3ce",
   "metadata": {},
   "source": [
    "Q. 9 Answer"
   ]
  },
  {
   "cell_type": "code",
   "execution_count": 30,
   "id": "551b4c6a",
   "metadata": {},
   "outputs": [],
   "source": [
    "s2 = \"sudhanshu\""
   ]
  },
  {
   "cell_type": "code",
   "execution_count": 36,
   "id": "7c2a3917",
   "metadata": {},
   "outputs": [
    {
     "data": {
      "text/plain": [
       "'sadhansha'"
      ]
     },
     "execution_count": 36,
     "metadata": {},
     "output_type": "execute_result"
    }
   ],
   "source": [
    "s2.replace('u','a')"
   ]
  },
  {
   "cell_type": "markdown",
   "id": "34ee204d",
   "metadata": {},
   "source": [
    " "
   ]
  },
  {
   "cell_type": "markdown",
   "id": "5439eeb3",
   "metadata": {},
   "source": [
    "Q. 10 Answer"
   ]
  },
  {
   "cell_type": "code",
   "execution_count": 37,
   "id": "e93fc430",
   "metadata": {},
   "outputs": [],
   "source": [
    "s3 = \"Kumar\""
   ]
  },
  {
   "cell_type": "code",
   "execution_count": 40,
   "id": "c0825e46",
   "metadata": {},
   "outputs": [
    {
     "data": {
      "text/plain": [
       "'***Kumar***'"
      ]
     },
     "execution_count": 40,
     "metadata": {},
     "output_type": "execute_result"
    }
   ],
   "source": [
    "s3.center(11,'*')"
   ]
  },
  {
   "cell_type": "markdown",
   "id": "e0a7ef64",
   "metadata": {},
   "source": [
    " "
   ]
  },
  {
   "cell_type": "markdown",
   "id": "6b59a739",
   "metadata": {},
   "source": [
    "Q. 11 Answer"
   ]
  },
  {
   "cell_type": "markdown",
   "id": "b6c389ef",
   "metadata": {},
   "source": [
    "'Compiler' - Compiler check whole programm for errors and covert program to machine language. Memory is required to save the code. Execution time of compiler is more. As whole code execution takes place at once and errors and messages generates at the end, debuging is not easy.\n",
    "\n",
    "'Interpreter' - Interpreter execute line by line program for errors. It does not convrert code to machine language. Memory is not required to save the code. Execution time is fast. Due to line by line execution of code debbuging is easy."
   ]
  },
  {
   "cell_type": "markdown",
   "id": "7feee793",
   "metadata": {},
   "source": [
    " "
   ]
  },
  {
   "cell_type": "markdown",
   "id": "7062345f",
   "metadata": {},
   "source": [
    "Q. 12 Answer"
   ]
  },
  {
   "cell_type": "markdown",
   "id": "fa8f1331",
   "metadata": {},
   "source": [
    " Python is an interpreted language as execution done line by line b the Python virtual machine."
   ]
  },
  {
   "cell_type": "markdown",
   "id": "52743ddd",
   "metadata": {},
   "source": [
    " "
   ]
  },
  {
   "cell_type": "markdown",
   "id": "9d5f2f79",
   "metadata": {},
   "source": [
    "Q. 13 Answer"
   ]
  },
  {
   "cell_type": "markdown",
   "id": "e9b62e66",
   "metadata": {},
   "source": [
    "Python is broadly used for AI Applications, Data Science, Machine Learning, Mathematical Modelling, Web Application, Agriculture, Navigation, Medical Science, Research & Development and many more. One use of pyhton is in drones for survelliance of areas when human reach is difficult. Drones are used for security survelliance, landmass topography mapping, forest area survilliance of trees and wild life."
   ]
  }
 ],
 "metadata": {
  "kernelspec": {
   "display_name": "Python 3 (ipykernel)",
   "language": "python",
   "name": "python3"
  },
  "language_info": {
   "codemirror_mode": {
    "name": "ipython",
    "version": 3
   },
   "file_extension": ".py",
   "mimetype": "text/x-python",
   "name": "python",
   "nbconvert_exporter": "python",
   "pygments_lexer": "ipython3",
   "version": "3.8.5"
  }
 },
 "nbformat": 4,
 "nbformat_minor": 5
}
